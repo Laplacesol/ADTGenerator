{
 "cells": [
  {
   "cell_type": "code",
   "execution_count": 1,
   "metadata": {
    "collapsed": true,
    "ExecuteTime": {
     "start_time": "2023-04-15T19:51:43.916320Z",
     "end_time": "2023-04-15T19:51:43.919155Z"
    }
   },
   "outputs": [
    {
     "name": "stdout",
     "output_type": "stream",
     "text": [
      "[<Field MSH_9 (MESSAGE_TYPE) of type CM_MSG>]\n"
     ]
    }
   ],
   "source": [
    "from hl7apy.parser import parse_message\n",
    "\n",
    "hl7_message = \"MSH|^~\\&|HIS|HNA0001|LIS|LNA0001|20170103120000||ORM^O01|20170103120000|P|2.3||||||ISO^NE\"\n",
    "\n",
    "parsed_message = parse_message(hl7_message)\n",
    "\n",
    "print(parsed_message.MSH.MESSAGE_TYPE)\n"
   ]
  },
  {
   "cell_type": "code",
   "execution_count": null,
   "outputs": [],
   "source": [],
   "metadata": {
    "collapsed": false
   }
  }
 ],
 "metadata": {
  "kernelspec": {
   "display_name": "Python 3",
   "language": "python",
   "name": "python3"
  },
  "language_info": {
   "codemirror_mode": {
    "name": "ipython",
    "version": 2
   },
   "file_extension": ".py",
   "mimetype": "text/x-python",
   "name": "python",
   "nbconvert_exporter": "python",
   "pygments_lexer": "ipython2",
   "version": "2.7.6"
  }
 },
 "nbformat": 4,
 "nbformat_minor": 0
}
